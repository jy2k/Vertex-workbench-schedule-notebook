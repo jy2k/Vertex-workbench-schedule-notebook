{
 "cells": [
  {
   "cell_type": "code",
   "execution_count": 1,
   "id": "c3ab7921-a2d2-47bd-91c3-8a7dec41af17",
   "metadata": {},
   "outputs": [],
   "source": [
    "import pandas as pd\n",
    "import numpy as np\n",
    "import matplotlib.pyplot as plt\n",
    "import pickle\n",
    "import sklearn\n",
    "\n",
    "from sklearn.datasets import load_iris\n",
    "from sklearn.model_selection import train_test_split\n",
    "from sklearn.preprocessing import StandardScaler\n",
    "from sklearn.pipeline import Pipeline\n",
    "from sklearn.ensemble import GradientBoostingClassifier\n",
    "from sklearn.metrics import accuracy_score"
   ]
  },
  {
   "cell_type": "code",
   "execution_count": 2,
   "id": "ae3a75ed-4ac8-4f30-9117-2d1f0ebdc58a",
   "metadata": {},
   "outputs": [
    {
     "name": "stdout",
     "output_type": "stream",
     "text": [
      "The scikit-learn version is 1.0.\n"
     ]
    }
   ],
   "source": [
    "print('The scikit-learn version is {}.'.format(sklearn.__version__))"
   ]
  },
  {
   "cell_type": "code",
   "execution_count": 24,
   "id": "28fa4755-4aa6-4b8a-ad54-879cbb668093",
   "metadata": {},
   "outputs": [],
   "source": [
    "from datetime import datetime\n",
    "\n",
    "TIMESTAMP = str(datetime.now())\n",
    "BUCKET_NAME = \"automl-output-mlops\"\n",
    "MODEL_FILENAME = \"model.pkl\"\n",
    "CSV_FILENAME = \"test.csv\"\n",
    "LOCATION = \"us-central1\"\n",
    "REGION = LOCATION\n",
    "#pre-built containers\n",
    "DOCKER_IMAGE_URI = \"us-docker.pkg.dev/vertex-ai/prediction/sklearn-cpu.1-0:latest\" # https://cloud.google.com/vertex-ai/docs/predictions/pre-built-containers\n",
    "\n",
    "#TODO: change to actual project\n",
    "PROJECT_ID = \"mlops-demos-306914\""
   ]
  },
  {
   "cell_type": "code",
   "execution_count": 13,
   "id": "c966fddc-50f7-4cfe-8a53-73a3f7d8df0e",
   "metadata": {},
   "outputs": [
    {
     "name": "stdout",
     "output_type": "stream",
     "text": [
      "(150, 4)\n",
      "(150,)\n"
     ]
    }
   ],
   "source": [
    "iris_data = load_iris(as_frame=True)\n",
    "df = pd.DataFrame(data=iris_data.data)\n",
    "df.to_csv(CSV_FILENAME, index=False)\n",
    "\n",
    "data = iris_data.data\n",
    "labels = iris_data.target\n",
    "print(data.shape)\n",
    "print(labels.shape)"
   ]
  },
  {
   "cell_type": "code",
   "execution_count": 4,
   "id": "7ecf79cf-3235-46c1-96bf-49c24f0b5c96",
   "metadata": {},
   "outputs": [],
   "source": [
    "x_train, x_test, y_train, y_test = train_test_split(data, labels, test_size=0.2, random_state=13)"
   ]
  },
  {
   "cell_type": "code",
   "execution_count": 5,
   "id": "53d20366-6500-4ca7-b573-3c9603b9733d",
   "metadata": {},
   "outputs": [
    {
     "data": {
      "text/plain": [
       "Pipeline(steps=[('std_scaler', StandardScaler()),\n",
       "                ('gbtrees', GradientBoostingClassifier())])"
      ]
     },
     "execution_count": 5,
     "metadata": {},
     "output_type": "execute_result"
    }
   ],
   "source": [
    "clf = Pipeline([\n",
    "    \n",
    "    # Scaler\n",
    "    ('std_scaler', StandardScaler()),\n",
    "    \n",
    "    # Classifier\n",
    "    ('gbtrees', GradientBoostingClassifier())\n",
    "\n",
    "])\n",
    "clf.fit(X=x_train, y=y_train)"
   ]
  },
  {
   "cell_type": "code",
   "execution_count": 6,
   "id": "a94f3f55-50c3-4243-a7d0-8310f14598cf",
   "metadata": {},
   "outputs": [
    {
     "name": "stdout",
     "output_type": "stream",
     "text": [
      "Model train accuracy:1.0\n",
      "Model test accuracy:0.9\n"
     ]
    }
   ],
   "source": [
    "print(f'Model train accuracy:{accuracy_score(y_train, clf.predict(x_train))}')\n",
    "print(f'Model test accuracy:{accuracy_score(y_test, clf.predict(x_test))}')"
   ]
  },
  {
   "cell_type": "code",
   "execution_count": 8,
   "id": "6a43b454-35fc-4b41-b50f-7665bd72235d",
   "metadata": {},
   "outputs": [],
   "source": [
    "pickle.dump(clf, open(MODEL_FILENAME, \"wb\"))"
   ]
  },
  {
   "cell_type": "code",
   "execution_count": 9,
   "id": "d4da1272-954e-4f35-bfcc-c5727338ce8c",
   "metadata": {},
   "outputs": [
    {
     "name": "stdout",
     "output_type": "stream",
     "text": [
      "0.9\n"
     ]
    }
   ],
   "source": [
    "loaded_model = pickle.load(open(MODEL_FILENAME, 'rb'))\n",
    "result = loaded_model.score(x_test, y_test)\n",
    "print(result)"
   ]
  },
  {
   "cell_type": "code",
   "execution_count": 10,
   "id": "bb09b263-fb9a-4d6a-bae6-9eb6f44d6006",
   "metadata": {},
   "outputs": [],
   "source": [
    "#https://cloud.google.com/storage/docs/uploading-objects\n",
    "from google.cloud import storage\n",
    "\n",
    "def upload_blob(bucket_name, source_file_name, destination_blob_name):\n",
    "\n",
    "    storage_client = storage.Client()\n",
    "    bucket = storage_client.bucket(bucket_name)\n",
    "    blob = bucket.blob(destination_blob_name)\n",
    "\n",
    "    blob.upload_from_filename(source_file_name)"
   ]
  },
  {
   "cell_type": "code",
   "execution_count": 11,
   "id": "77eb4fab-f4f3-4d9f-adf1-0b229092f7d3",
   "metadata": {},
   "outputs": [],
   "source": [
    "upload_blob(bucket_name=BUCKET_NAME, source_file_name=MODEL_FILENAME, destination_blob_name=MODEL_FILENAME)"
   ]
  },
  {
   "cell_type": "code",
   "execution_count": 14,
   "id": "52d0190e-64d0-47ba-9aa8-b5fb279a5675",
   "metadata": {},
   "outputs": [],
   "source": [
    "upload_blob(bucket_name=BUCKET_NAME, source_file_name=CSV_FILENAME, destination_blob_name=CSV_FILENAME)"
   ]
  },
  {
   "cell_type": "code",
   "execution_count": null,
   "id": "9cd15b58-d90d-4628-8999-a4483370a838",
   "metadata": {},
   "outputs": [],
   "source": [
    "#https://cloud.google.com/vertex-ai/docs/model-registry/import-model#pre-built-container\n",
    "#https://github.com/googleapis/python-aiplatform/blob/HEAD/samples/model-builder/upload_model_sample.py\n",
    "from google.cloud import aiplatform\n",
    "\n",
    "aiplatform.init(project=PROJECT_ID, location=LOCATION)\n",
    "\n",
    "model = aiplatform.Model.upload(\n",
    "        display_name=TIMESTAMP,\n",
    "        artifact_uri=\"gs://\"+BUCKET_NAME+\"/\",\n",
    "        serving_container_image_uri=DOCKER_IMAGE_URI)\n",
    "\n",
    "model.wait()\n",
    "\n",
    "print(model.display_name)\n",
    "print(model.resource_name)"
   ]
  },
  {
   "cell_type": "code",
   "execution_count": 26,
   "id": "c5e145c0-09e6-4cdd-a218-fa7d0d21b56e",
   "metadata": {
    "tags": [
     "parameters"
    ]
   },
   "outputs": [],
   "source": [
    "learning_rate=0.01"
   ]
  },
  {
   "cell_type": "code",
   "execution_count": 27,
   "id": "91103c64-3c63-4337-8cfb-ab0e9bd01abe",
   "metadata": {},
   "outputs": [
    {
     "name": "stdout",
     "output_type": "stream",
     "text": [
      "0.01\n"
     ]
    }
   ],
   "source": [
    "print(str(learning_rate))"
   ]
  },
  {
   "cell_type": "code",
   "execution_count": 17,
   "id": "fcba180d-78d1-4d36-bfcd-bc14dd67ecfc",
   "metadata": {
    "tags": []
   },
   "outputs": [
    {
     "name": "stdout",
     "output_type": "stream",
     "text": [
      "gs://automl-output-mlops/test.csv\n",
      "Creating BatchPredictionJob\n",
      "BatchPredictionJob created. Resource name: projects/983707479002/locations/us-central1/batchPredictionJobs/8561588357602213888\n",
      "To use this BatchPredictionJob in another session:\n",
      "bpj = aiplatform.BatchPredictionJob('projects/983707479002/locations/us-central1/batchPredictionJobs/8561588357602213888')\n",
      "View Batch Prediction Job:\n",
      "https://console.cloud.google.com/ai/platform/locations/us-central1/batch-predictions/8561588357602213888?project=983707479002\n",
      "BatchPredictionJob projects/983707479002/locations/us-central1/batchPredictionJobs/8561588357602213888 current state:\n",
      "JobState.JOB_STATE_RUNNING\n",
      "BatchPredictionJob projects/983707479002/locations/us-central1/batchPredictionJobs/8561588357602213888 current state:\n",
      "JobState.JOB_STATE_RUNNING\n",
      "BatchPredictionJob projects/983707479002/locations/us-central1/batchPredictionJobs/8561588357602213888 current state:\n",
      "JobState.JOB_STATE_RUNNING\n",
      "BatchPredictionJob projects/983707479002/locations/us-central1/batchPredictionJobs/8561588357602213888 current state:\n",
      "JobState.JOB_STATE_RUNNING\n",
      "BatchPredictionJob projects/983707479002/locations/us-central1/batchPredictionJobs/8561588357602213888 current state:\n",
      "JobState.JOB_STATE_RUNNING\n",
      "BatchPredictionJob projects/983707479002/locations/us-central1/batchPredictionJobs/8561588357602213888 current state:\n",
      "JobState.JOB_STATE_RUNNING\n",
      "BatchPredictionJob projects/983707479002/locations/us-central1/batchPredictionJobs/8561588357602213888 current state:\n",
      "JobState.JOB_STATE_RUNNING\n",
      "BatchPredictionJob projects/983707479002/locations/us-central1/batchPredictionJobs/8561588357602213888 current state:\n",
      "JobState.JOB_STATE_RUNNING\n",
      "BatchPredictionJob projects/983707479002/locations/us-central1/batchPredictionJobs/8561588357602213888 current state:\n",
      "JobState.JOB_STATE_RUNNING\n",
      "BatchPredictionJob projects/983707479002/locations/us-central1/batchPredictionJobs/8561588357602213888 current state:\n",
      "JobState.JOB_STATE_SUCCEEDED\n",
      "BatchPredictionJob run completed. Resource name: projects/983707479002/locations/us-central1/batchPredictionJobs/8561588357602213888\n",
      "test-3\n",
      "projects/983707479002/locations/us-central1/batchPredictionJobs/8561588357602213888\n",
      "JobState.JOB_STATE_SUCCEEDED\n"
     ]
    }
   ],
   "source": [
    "#https://github.com/googleapis/python-aiplatform/blob/2bc9b2b0d048c29ba43c8b4c3ea51370515d08c3/samples/model-builder/create_batch_prediction_job_sample.py\n",
    "from google.cloud import aiplatform\n",
    "\n",
    "#No need to re-init but I wanted the cells to be standalone\n",
    "aiplatform.init(project=PROJECT_ID, location=LOCATION)\n",
    "\n",
    "#TODO: add monitoring\n",
    "#https://cloud.google.com/vertex-ai/docs/model-monitoring/model-monitoring-batch-predictions#console\n",
    "#https://colab.sandbox.google.com/github/GoogleCloudPlatform/vertex-ai-samples/blob/main/notebooks/community/model_monitoring/batch_prediction_model_monitoring.ipynb\n",
    "my_model = aiplatform.Model(model.resource_name)\n",
    "source = \"gs://\"+BUCKET_NAME+\"/test.csv\"\n",
    "print(source)\n",
    "batch_prediction_job = my_model.batch_predict(\n",
    "        job_display_name=TIMESTAMP,\n",
    "        gcs_source=[source],\n",
    "        gcs_destination_prefix=\"gs://\"+BUCKET_NAME,\n",
    "        machine_type = \"n1-standard-32\",\n",
    "        starting_replica_count=1,\n",
    "        max_replica_count=2,\n",
    "        sync=False,\n",
    "        instances_format=\"csv\" #https://googleapis.dev/python/aiplatform/latest/aiplatform.html\n",
    ")\n",
    "\n",
    "batch_prediction_job.wait()\n",
    "\n",
    "print(batch_prediction_job.display_name)\n",
    "print(batch_prediction_job.resource_name)\n",
    "print(batch_prediction_job.state)"
   ]
  },
  {
   "cell_type": "code",
   "execution_count": null,
   "id": "bae9b75c-e462-4a75-9bde-7cace504bc11",
   "metadata": {},
   "outputs": [],
   "source": [
    "#download CSV from bucket\n",
    "#Write to database X"
   ]
  }
 ],
 "metadata": {
  "kernelspec": {
   "display_name": "Python (Local)",
   "language": "python",
   "name": "local-base"
  },
  "language_info": {
   "codemirror_mode": {
    "name": "ipython",
    "version": 3
   },
   "file_extension": ".py",
   "mimetype": "text/x-python",
   "name": "python",
   "nbconvert_exporter": "python",
   "pygments_lexer": "ipython3",
   "version": "3.7.12"
  }
 },
 "nbformat": 4,
 "nbformat_minor": 5
}
